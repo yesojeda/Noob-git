{
  "nbformat": 4,
  "nbformat_minor": 0,
  "metadata": {
    "colab": {
      "name": "Tp final estadística Yesica Ojeda",
      "provenance": [],
      "collapsed_sections": [],
      "include_colab_link": true
    },
    "kernelspec": {
      "name": "ir",
      "display_name": "R"
    },
    "language_info": {
      "name": "R"
    }
  },
  "cells": [
    {
      "cell_type": "markdown",
      "metadata": {
        "id": "view-in-github",
        "colab_type": "text"
      },
      "source": [
        "<a href=\"https://colab.research.google.com/github/yesojeda/Noob-git/blob/master/Tp_final_estad%C3%ADstica_UDA_Yesica_Ojeda.ipynb\" target=\"_parent\"><img src=\"https://colab.research.google.com/assets/colab-badge.svg\" alt=\"Open In Colab\"/></a>"
      ]
    },
    {
      "cell_type": "markdown",
      "metadata": {
        "id": "zwHcxnzG_Vuz"
      },
      "source": [
        "Cosas del TP Final UDA\n"
      ]
    },
    {
      "cell_type": "code",
      "metadata": {
        "colab": {
          "base_uri": "https://localhost:8080/"
        },
        "id": "RjaceKE999gK",
        "outputId": "04b9c04b-07a5-4e77-81b8-7894e33ceb9a"
      },
      "source": [
        "install.packages (\"forecast\")"
      ],
      "execution_count": null,
      "outputs": [
        {
          "output_type": "stream",
          "text": [
            "Installing package into ‘/usr/local/lib/R/site-library’\n",
            "(as ‘lib’ is unspecified)\n",
            "\n",
            "also installing the dependencies ‘xts’, ‘TTR’, ‘quadprog’, ‘quantmod’, ‘fracdiff’, ‘lmtest’, ‘timeDate’, ‘tseries’, ‘urca’, ‘zoo’, ‘RcppArmadillo’\n",
            "\n",
            "\n"
          ],
          "name": "stderr"
        }
      ]
    },
    {
      "cell_type": "code",
      "metadata": {
        "id": "X9JwrflB_0Gg",
        "colab": {
          "base_uri": "https://localhost:8080/"
        },
        "outputId": "6d0ba350-7a43-4a4c-c286-41e505d4b10c"
      },
      "source": [
        "library (forecast)"
      ],
      "execution_count": null,
      "outputs": [
        {
          "output_type": "stream",
          "text": [
            "Registered S3 method overwritten by 'quantmod':\n",
            "  method            from\n",
            "  as.zoo.data.frame zoo \n",
            "\n"
          ],
          "name": "stderr"
        }
      ]
    },
    {
      "cell_type": "code",
      "metadata": {
        "colab": {
          "base_uri": "https://localhost:8080/"
        },
        "id": "-FVg0gdOi8rc",
        "outputId": "41a530f9-5f4c-452d-e591-0c14177ab3aa"
      },
      "source": [
        "install.packages(\"ggplot2\")"
      ],
      "execution_count": null,
      "outputs": [
        {
          "output_type": "stream",
          "text": [
            "Installing package into ‘/usr/local/lib/R/site-library’\n",
            "(as ‘lib’ is unspecified)\n",
            "\n"
          ],
          "name": "stderr"
        }
      ]
    },
    {
      "cell_type": "code",
      "metadata": {
        "colab": {
          "base_uri": "https://localhost:8080/"
        },
        "id": "-x9HS5uAjL9e",
        "outputId": "468c0828-3d1d-494a-e9e2-bc60dbda9703"
      },
      "source": [
        "install.packages(\"dplyr\")"
      ],
      "execution_count": null,
      "outputs": [
        {
          "output_type": "stream",
          "text": [
            "Installing package into ‘/usr/local/lib/R/site-library’\n",
            "(as ‘lib’ is unspecified)\n",
            "\n"
          ],
          "name": "stderr"
        }
      ]
    },
    {
      "cell_type": "code",
      "metadata": {
        "id": "0iXLgVl_TS55",
        "colab": {
          "base_uri": "https://localhost:8080/",
          "height": 401
        },
        "outputId": "dea643e6-86ba-412b-ea42-97ec3870dfda"
      },
      "source": [
        "library(ggplot2)\n",
        "library(dplyr)"
      ],
      "execution_count": null,
      "outputs": [
        {
          "output_type": "error",
          "ename": "ERROR",
          "evalue": "ignored",
          "traceback": [
            "Error in value[[3L]](cond): Package ‘ggplot2’ version 3.3.3 cannot be unloaded:\n Error in unloadNamespace(package) : namespace ‘ggplot2’ is imported by ‘forecast’ so cannot be unloaded\n\nTraceback:\n",
            "1. library(ggplot2)",
            "2. tryCatch(unloadNamespace(package), error = function(e) {\n .     P <- if (!is.null(cc <- conditionCall(e))) \n .         paste(\"Error in\", deparse(cc)[1L], \": \")\n .     else \"Error : \"\n .     stop(gettextf(\"Package %s version %s cannot be unloaded:\\n %s\", \n .         sQuote(package), oldversion, paste0(P, conditionMessage(e), \n .             \"\\n\")), domain = NA)\n . })",
            "3. tryCatchList(expr, classes, parentenv, handlers)",
            "4. tryCatchOne(expr, names, parentenv, handlers[[1L]])",
            "5. value[[3L]](cond)",
            "6. stop(gettextf(\"Package %s version %s cannot be unloaded:\\n %s\", \n .     sQuote(package), oldversion, paste0(P, conditionMessage(e), \n .         \"\\n\")), domain = NA)"
          ]
        }
      ]
    },
    {
      "cell_type": "markdown",
      "metadata": {
        "id": "LLBgBu5CKmtn"
      },
      "source": [
        "Ingreso los resultados de cada mes\n",
        "son n° de prueba porque no sé qué es resultado ordinario= Ingreso-Egreso. Mi serie de tiempo es Resordinario.ts y el vector de datos es C o Resordinario. Los valores seleccionados aún no son iguales a los que toman los compañeros"
      ]
    },
    {
      "cell_type": "code",
      "metadata": {
        "id": "L8_DgIQOKlir"
      },
      "source": [
        "Resordinario=c(968772,\t-59538,\t899658,\t-1607991,\t47962,\t448286,\t128220, 224724,\t2183194,\t1451961,\t2303783,\t-8837850,\t2308163,\t1178093,\t877074,\t-945512,\t322738,\t4220580,\n",
        "              \t1226564,\t-672814,\t3694450,\t994429,\t1845367,\t-3600777,\t4242256,\t524732,\t5039520, 3576723,\t1554726,\t6368295,\n",
        "                -5337533,\t-1498576,\t2349353,\t2789216,\t1039623,\t-4566671,\t-5817913,\t2738370,\t7057589,\t6501760,\t6784486,\t1190704,\n",
        "                2493362, 13314451,\t13999099,\t1794991,\t4397498, -1902371, 23696883,\t7922174,\t8298826, -3717444, -10809350, 585855,\n",
        "                5376851, 17806612, 19900190, -1107242, 2965629, -15576313, 37439525, 12511929,\t12219757,\t-1856509, -13803050, 1030010)\n",
        "Resordinario\n"
      ],
      "execution_count": null,
      "outputs": []
    },
    {
      "cell_type": "code",
      "metadata": {
        "id": "-EbSOiDhbubr"
      },
      "source": [
        "Resordinario.ts = ts(Resordinario, start = c(2015,7), frequency = 12)\n",
        "\n",
        "Resordinario.ts"
      ],
      "execution_count": null,
      "outputs": []
    },
    {
      "cell_type": "markdown",
      "metadata": {
        "id": "KiUjrXUMQWQ2"
      },
      "source": [
        "Graficar serie de resultados\n"
      ]
    },
    {
      "cell_type": "code",
      "metadata": {
        "id": "haWOo2WvQfpa"
      },
      "source": [
        "plot(Resordinario.ts, ylab=\" Serie de tiempo Resordinario\", xlab=\"Tiempo\" ,type=\"l\",lwd=2,pch=2,cex=2,col=\"Green\")"
      ],
      "execution_count": null,
      "outputs": []
    },
    {
      "cell_type": "markdown",
      "metadata": {
        "id": "Cl09LIWEVH76"
      },
      "source": [
        "Para saber la tendencia y si es estacional o no, descompongo la serie. No sé por qué dice que tiene menos de 2 perídos y si tiene más.\n",
        "\n",
        "Para el gráfico, la orbservada es la serie de tiempo\n",
        "\n"
      ]
    },
    {
      "cell_type": "code",
      "metadata": {
        "id": "B4R2EYxUVTCS"
      },
      "source": [
        "descomposicion<-decompose(Resordinario.ts, type = \"additive\")\n",
        "plot(descomposicion, ylab=\"Descomposicion Resordinario\", xlab=\"Tiempo\" ,type=\"o\",lwd=1,pch=1,cex=1,col=\"Red\")\n"
      ],
      "execution_count": null,
      "outputs": []
    },
    {
      "cell_type": "markdown",
      "metadata": {
        "id": "LqF-4zIHQ2Mo"
      },
      "source": [
        "Estimar el modelo SARIMA (arima estacional). Uso este modelo ya que al analizar la descomposición me muestra cierta estacionalidad, para conocer mejor cuáles son los períodos con estacionalidad se debería de hacer un gráf de cajas y bigotes.Además, al estudiar la descomposición se ve que tiene una tendencia a la baja. Hay que incorporar también el análisis de los factores\n"
      ]
    },
    {
      "cell_type": "code",
      "metadata": {
        "id": "iz-67v_qQ11V"
      },
      "source": [
        "fit1=auto.arima(Resordinario.ts,seasonal = T,ic = c(\"aicc\"), stepwise=T, allowdrift = T)\n",
        "summary(fit1)"
      ],
      "execution_count": null,
      "outputs": []
    },
    {
      "cell_type": "markdown",
      "metadata": {
        "id": "8TjfB8T4gLZa"
      },
      "source": [
        "Predicción\n",
        "\n",
        "---\n",
        "\n",
        "\n"
      ]
    },
    {
      "cell_type": "code",
      "metadata": {
        "id": "vgQ5ynzDgKf5"
      },
      "source": [
        "predict.log1= forecast(fit1,h=12)\n",
        "\n",
        "\n",
        "predict.log1$mean\n",
        "predict.log1$lower\n",
        "predict.log1$upper"
      ],
      "execution_count": null,
      "outputs": []
    },
    {
      "cell_type": "code",
      "metadata": {
        "id": "7O70pm-xyf4k"
      },
      "source": [
        "sum(predict.log1$mean)"
      ],
      "execution_count": null,
      "outputs": []
    },
    {
      "cell_type": "markdown",
      "metadata": {
        "id": "8plJzVvazErN"
      },
      "source": [
        "Otra forma para que ajuste mejor con lo que explica desde min 45 de la clase de consulta. Igualmente, tengo que modificar los valores de entrada porque no me coinciden tanto como a ellos"
      ]
    },
    {
      "cell_type": "markdown",
      "metadata": {
        "id": "fly_DVuEPKu_"
      },
      "source": [
        "Mejora de aproximación sin auto arima"
      ]
    },
    {
      "cell_type": "code",
      "metadata": {
        "id": "nwHVtgbfP9S3"
      },
      "source": [
        "fit=arima (Resordinario.ts,order = c(1,1,1),seasonal = c(0,1,0))\n",
        "\n",
        "summary(fit)"
      ],
      "execution_count": null,
      "outputs": []
    },
    {
      "cell_type": "code",
      "metadata": {
        "id": "V3YAuaC0TQNM"
      },
      "source": [
        "predict.log2= forecast(fit,h=12)\n",
        "forecast(fit,h=12)\n"
      ],
      "execution_count": null,
      "outputs": []
    },
    {
      "cell_type": "code",
      "metadata": {
        "id": "95TorxyiYdpY"
      },
      "source": [
        "predict.log2$mean\n",
        "predict.log2$lower\n",
        "predict.log2$upper"
      ],
      "execution_count": null,
      "outputs": []
    },
    {
      "cell_type": "code",
      "metadata": {
        "id": "tIuXQhMCOkcu"
      },
      "source": [
        "plot(predict.log2)"
      ],
      "execution_count": null,
      "outputs": []
    },
    {
      "cell_type": "code",
      "metadata": {
        "colab": {
          "base_uri": "https://localhost:8080/",
          "height": 34
        },
        "id": "qj0_bdTJTDNY",
        "outputId": "b91127d4-62f9-4956-f327-892e610d4081"
      },
      "source": [
        "sum(predict.log2$mean)"
      ],
      "execution_count": null,
      "outputs": [
        {
          "output_type": "display_data",
          "data": {
            "text/plain": [
              "[1] 94056385"
            ],
            "text/latex": "94056384.921962",
            "text/markdown": "94056384.921962",
            "text/html": [
              "94056384.921962"
            ]
          },
          "metadata": {
            "tags": []
          }
        }
      ]
    },
    {
      "cell_type": "code",
      "metadata": {
        "colab": {
          "base_uri": "https://localhost:8080/",
          "height": 51
        },
        "id": "uXHzgAZ3Yq3s",
        "outputId": "a11cff6a-b585-4edc-c705-2320fb62e618"
      },
      "source": [
        "sum(predict.log2$lower)\n",
        "\n",
        "sum(predict.log2$upper)"
      ],
      "execution_count": null,
      "outputs": [
        {
          "output_type": "display_data",
          "data": {
            "text/plain": [
              "[1] -123864481"
            ],
            "text/latex": "-123864480.763872",
            "text/markdown": "-123864480.763872",
            "text/html": [
              "-123864480.763872"
            ]
          },
          "metadata": {
            "tags": []
          }
        },
        {
          "output_type": "display_data",
          "data": {
            "text/plain": [
              "[1] 430005338"
            ],
            "text/latex": "430005337.637269",
            "text/markdown": "430005337.637269",
            "text/html": [
              "430005337.637269"
            ]
          },
          "metadata": {
            "tags": []
          }
        }
      ]
    },
    {
      "cell_type": "markdown",
      "metadata": {
        "id": "UY0VDcpMhFQQ"
      },
      "source": [
        "Analizar los supuestos del modelo\n",
        "\n",
        "Test de shapiro-Wilks\n",
        "\n",
        "H0: Es normal vs H1: no es normal"
      ]
    },
    {
      "cell_type": "code",
      "metadata": {
        "colab": {
          "base_uri": "https://localhost:8080/",
          "height": 95
        },
        "id": "pwBplvZFhCeP",
        "outputId": "808e0fd9-1a0b-4148-8ea3-8625d437acc2"
      },
      "source": [
        "bptes(Resordinario.ts)"
      ],
      "execution_count": null,
      "outputs": [
        {
          "output_type": "error",
          "ename": "ERROR",
          "evalue": "ignored",
          "traceback": [
            "Error in bptes(Resordinario): could not find function \"bptes\"\nTraceback:\n"
          ]
        }
      ]
    },
    {
      "cell_type": "markdown",
      "metadata": {
        "id": "1IK6Snb3iliW"
      },
      "source": [
        "Analisis de la homogeneidad de la varianza\n"
      ]
    },
    {
      "cell_type": "code",
      "metadata": {
        "colab": {
          "base_uri": "https://localhost:8080/",
          "height": 68
        },
        "id": "TIppsiBHm1ay",
        "outputId": "828cb4ce-57f9-437b-fe08-7397d05804b6"
      },
      "source": [
        "meses=c(\"Jul\",\"Ago\",\"Sep\",\"Oct\",\"Nov\",\"Dic\",\"Jan\",\"Feb\",\"Mar\",\"Apr\",\"May\",\"Jun\",\"Jul\",\"Ago\",\"Sep\",\"Oct\",\"Nov\",\"Dic\",\"Jan\",\"Feb\",\"Mar\",\"Apr\",\"May\",\"Jun\",\"Jul\",\"Ago\",\"Sep\",\"Oct\",\"Nov\",\"Dic\",\n",
        "              \"Jan\",\"Feb\",\"Mar\",\"Apr\",\"May\",\"Jun\",\"Jul\",\"Ago\",\"Sep\",\"Oct\",\"Nov\",\"Dic\",\n",
        "             \"Jan\",\"Feb\",\"Mar\",\"Apr\",\"May\",\"Jun\",\"Jul\",\"Ago\",\"Sep\",\"Oct\",\"Nov\",\"Dic\",\n",
        "             \"Jan\",\"Feb\",\"Mar\",\"Apr\",\"May\",\"Jun\",\"Jul\",\"Ago\",\"Sep\",\"Oct\",\"Nov\",\"Dic\")\n",
        "meses"
      ],
      "execution_count": null,
      "outputs": [
        {
          "output_type": "display_data",
          "data": {
            "text/plain": [
              " [1] \"Jul\" \"Ago\" \"Sep\" \"Oct\" \"Nov\" \"Dic\" \"Jan\" \"Feb\" \"Mar\" \"Apr\" \"May\" \"Jun\"\n",
              "[13] \"Jul\" \"Ago\" \"Sep\" \"Oct\" \"Nov\" \"Dic\" \"Jan\" \"Feb\" \"Mar\" \"Apr\" \"May\" \"Jun\"\n",
              "[25] \"Jul\" \"Ago\" \"Sep\" \"Oct\" \"Nov\" \"Dic\" \"Jan\" \"Feb\" \"Mar\" \"Apr\" \"May\" \"Jun\"\n",
              "[37] \"Jul\" \"Ago\" \"Sep\" \"Oct\" \"Nov\" \"Dic\" \"Jan\" \"Feb\" \"Mar\" \"Apr\" \"May\" \"Jun\"\n",
              "[49] \"Jul\" \"Ago\" \"Sep\" \"Oct\" \"Nov\" \"Dic\" \"Jan\" \"Feb\" \"Mar\" \"Apr\" \"May\" \"Jun\"\n",
              "[61] \"Jul\" \"Ago\" \"Sep\" \"Oct\" \"Nov\" \"Dic\""
            ],
            "text/latex": "\\begin{enumerate*}\n\\item 'Jul'\n\\item 'Ago'\n\\item 'Sep'\n\\item 'Oct'\n\\item 'Nov'\n\\item 'Dic'\n\\item 'Jan'\n\\item 'Feb'\n\\item 'Mar'\n\\item 'Apr'\n\\item 'May'\n\\item 'Jun'\n\\item 'Jul'\n\\item 'Ago'\n\\item 'Sep'\n\\item 'Oct'\n\\item 'Nov'\n\\item 'Dic'\n\\item 'Jan'\n\\item 'Feb'\n\\item 'Mar'\n\\item 'Apr'\n\\item 'May'\n\\item 'Jun'\n\\item 'Jul'\n\\item 'Ago'\n\\item 'Sep'\n\\item 'Oct'\n\\item 'Nov'\n\\item 'Dic'\n\\item 'Jan'\n\\item 'Feb'\n\\item 'Mar'\n\\item 'Apr'\n\\item 'May'\n\\item 'Jun'\n\\item 'Jul'\n\\item 'Ago'\n\\item 'Sep'\n\\item 'Oct'\n\\item 'Nov'\n\\item 'Dic'\n\\item 'Jan'\n\\item 'Feb'\n\\item 'Mar'\n\\item 'Apr'\n\\item 'May'\n\\item 'Jun'\n\\item 'Jul'\n\\item 'Ago'\n\\item 'Sep'\n\\item 'Oct'\n\\item 'Nov'\n\\item 'Dic'\n\\item 'Jan'\n\\item 'Feb'\n\\item 'Mar'\n\\item 'Apr'\n\\item 'May'\n\\item 'Jun'\n\\item 'Jul'\n\\item 'Ago'\n\\item 'Sep'\n\\item 'Oct'\n\\item 'Nov'\n\\item 'Dic'\n\\end{enumerate*}\n",
            "text/markdown": "1. 'Jul'\n2. 'Ago'\n3. 'Sep'\n4. 'Oct'\n5. 'Nov'\n6. 'Dic'\n7. 'Jan'\n8. 'Feb'\n9. 'Mar'\n10. 'Apr'\n11. 'May'\n12. 'Jun'\n13. 'Jul'\n14. 'Ago'\n15. 'Sep'\n16. 'Oct'\n17. 'Nov'\n18. 'Dic'\n19. 'Jan'\n20. 'Feb'\n21. 'Mar'\n22. 'Apr'\n23. 'May'\n24. 'Jun'\n25. 'Jul'\n26. 'Ago'\n27. 'Sep'\n28. 'Oct'\n29. 'Nov'\n30. 'Dic'\n31. 'Jan'\n32. 'Feb'\n33. 'Mar'\n34. 'Apr'\n35. 'May'\n36. 'Jun'\n37. 'Jul'\n38. 'Ago'\n39. 'Sep'\n40. 'Oct'\n41. 'Nov'\n42. 'Dic'\n43. 'Jan'\n44. 'Feb'\n45. 'Mar'\n46. 'Apr'\n47. 'May'\n48. 'Jun'\n49. 'Jul'\n50. 'Ago'\n51. 'Sep'\n52. 'Oct'\n53. 'Nov'\n54. 'Dic'\n55. 'Jan'\n56. 'Feb'\n57. 'Mar'\n58. 'Apr'\n59. 'May'\n60. 'Jun'\n61. 'Jul'\n62. 'Ago'\n63. 'Sep'\n64. 'Oct'\n65. 'Nov'\n66. 'Dic'\n\n\n",
            "text/html": [
              "<style>\n",
              ".list-inline {list-style: none; margin:0; padding: 0}\n",
              ".list-inline>li {display: inline-block}\n",
              ".list-inline>li:not(:last-child)::after {content: \"\\00b7\"; padding: 0 .5ex}\n",
              "</style>\n",
              "<ol class=list-inline><li>'Jul'</li><li>'Ago'</li><li>'Sep'</li><li>'Oct'</li><li>'Nov'</li><li>'Dic'</li><li>'Jan'</li><li>'Feb'</li><li>'Mar'</li><li>'Apr'</li><li>'May'</li><li>'Jun'</li><li>'Jul'</li><li>'Ago'</li><li>'Sep'</li><li>'Oct'</li><li>'Nov'</li><li>'Dic'</li><li>'Jan'</li><li>'Feb'</li><li>'Mar'</li><li>'Apr'</li><li>'May'</li><li>'Jun'</li><li>'Jul'</li><li>'Ago'</li><li>'Sep'</li><li>'Oct'</li><li>'Nov'</li><li>'Dic'</li><li>'Jan'</li><li>'Feb'</li><li>'Mar'</li><li>'Apr'</li><li>'May'</li><li>'Jun'</li><li>'Jul'</li><li>'Ago'</li><li>'Sep'</li><li>'Oct'</li><li>'Nov'</li><li>'Dic'</li><li>'Jan'</li><li>'Feb'</li><li>'Mar'</li><li>'Apr'</li><li>'May'</li><li>'Jun'</li><li>'Jul'</li><li>'Ago'</li><li>'Sep'</li><li>'Oct'</li><li>'Nov'</li><li>'Dic'</li><li>'Jan'</li><li>'Feb'</li><li>'Mar'</li><li>'Apr'</li><li>'May'</li><li>'Jun'</li><li>'Jul'</li><li>'Ago'</li><li>'Sep'</li><li>'Oct'</li><li>'Nov'</li><li>'Dic'</li></ol>\n"
            ]
          },
          "metadata": {
            "tags": []
          }
        }
      ]
    },
    {
      "cell_type": "markdown",
      "metadata": {
        "id": "mR9rQ_t5bXS4"
      },
      "source": [
        "Transformar a factor"
      ]
    },
    {
      "cell_type": "code",
      "metadata": {
        "id": "zsAdvOrpbWz2"
      },
      "source": [
        "meses=as.factor(meses)"
      ],
      "execution_count": null,
      "outputs": []
    },
    {
      "cell_type": "code",
      "metadata": {
        "colab": {
          "base_uri": "https://localhost:8080/",
          "height": 1000
        },
        "id": "iFjkOBnLqkNK",
        "outputId": "fe834d00-cbd3-4d33-e033-8e867258ef25"
      },
      "source": [
        "datos=data.frame(Resordinario=Resordinario,meses=meses)\n",
        "datos"
      ],
      "execution_count": null,
      "outputs": [
        {
          "output_type": "display_data",
          "data": {
            "text/plain": [
              "   Resordinario meses\n",
              "1    968772     Jul  \n",
              "2    -59538     Ago  \n",
              "3    899658     Sep  \n",
              "4  -1607991     Oct  \n",
              "5     47962     Nov  \n",
              "6    448286     Dic  \n",
              "7    128220     Jan  \n",
              "8    224724     Feb  \n",
              "9   2183194     Mar  \n",
              "10  1451961     Apr  \n",
              "11  2303783     May  \n",
              "12 -8837850     Jun  \n",
              "13  2308163     Jul  \n",
              "14  1178093     Ago  \n",
              "15   877074     Sep  \n",
              "16  -945512     Oct  \n",
              "17   322738     Nov  \n",
              "18  4220580     Dic  \n",
              "19  1226564     Jan  \n",
              "20  -672814     Feb  \n",
              "21  3694450     Mar  \n",
              "22   994429     Apr  \n",
              "23  1845367     May  \n",
              "24 -3600777     Jun  \n",
              "25  4242256     Jul  \n",
              "26   524732     Ago  \n",
              "27  5039520     Sep  \n",
              "28  3576723     Oct  \n",
              "29  1554726     Nov  \n",
              "30  6368295     Dic  \n",
              "⋮  ⋮            ⋮    \n",
              "37  -5817913    Jul  \n",
              "38   2738370    Ago  \n",
              "39   7057589    Sep  \n",
              "40   6501760    Oct  \n",
              "41   6784486    Nov  \n",
              "42   1190704    Dic  \n",
              "43   2493362    Jan  \n",
              "44  13314451    Feb  \n",
              "45  13999099    Mar  \n",
              "46   1794991    Apr  \n",
              "47   4397498    May  \n",
              "48  -1902371    Jun  \n",
              "49  23696883    Jul  \n",
              "50   7922174    Ago  \n",
              "51   8298826    Sep  \n",
              "52  -3717444    Oct  \n",
              "53 -10809350    Nov  \n",
              "54    585855    Dic  \n",
              "55   5376851    Jan  \n",
              "56  17806612    Feb  \n",
              "57  19900190    Mar  \n",
              "58  -1107242    Apr  \n",
              "59   2965629    May  \n",
              "60 -15576313    Jun  \n",
              "61  37439525    Jul  \n",
              "62  12511929    Ago  \n",
              "63  12219757    Sep  \n",
              "64  -1856509    Oct  \n",
              "65 -13803050    Nov  \n",
              "66   1030010    Dic  "
            ],
            "text/latex": "A data.frame: 66 × 2\n\\begin{tabular}{ll}\n Resordinario & meses\\\\\n <dbl> & <fct>\\\\\n\\hline\n\t   968772 & Jul\\\\\n\t   -59538 & Ago\\\\\n\t   899658 & Sep\\\\\n\t -1607991 & Oct\\\\\n\t    47962 & Nov\\\\\n\t   448286 & Dic\\\\\n\t   128220 & Jan\\\\\n\t   224724 & Feb\\\\\n\t  2183194 & Mar\\\\\n\t  1451961 & Apr\\\\\n\t  2303783 & May\\\\\n\t -8837850 & Jun\\\\\n\t  2308163 & Jul\\\\\n\t  1178093 & Ago\\\\\n\t   877074 & Sep\\\\\n\t  -945512 & Oct\\\\\n\t   322738 & Nov\\\\\n\t  4220580 & Dic\\\\\n\t  1226564 & Jan\\\\\n\t  -672814 & Feb\\\\\n\t  3694450 & Mar\\\\\n\t   994429 & Apr\\\\\n\t  1845367 & May\\\\\n\t -3600777 & Jun\\\\\n\t  4242256 & Jul\\\\\n\t   524732 & Ago\\\\\n\t  5039520 & Sep\\\\\n\t  3576723 & Oct\\\\\n\t  1554726 & Nov\\\\\n\t  6368295 & Dic\\\\\n\t ⋮ & ⋮\\\\\n\t  -5817913 & Jul\\\\\n\t   2738370 & Ago\\\\\n\t   7057589 & Sep\\\\\n\t   6501760 & Oct\\\\\n\t   6784486 & Nov\\\\\n\t   1190704 & Dic\\\\\n\t   2493362 & Jan\\\\\n\t  13314451 & Feb\\\\\n\t  13999099 & Mar\\\\\n\t   1794991 & Apr\\\\\n\t   4397498 & May\\\\\n\t  -1902371 & Jun\\\\\n\t  23696883 & Jul\\\\\n\t   7922174 & Ago\\\\\n\t   8298826 & Sep\\\\\n\t  -3717444 & Oct\\\\\n\t -10809350 & Nov\\\\\n\t    585855 & Dic\\\\\n\t   5376851 & Jan\\\\\n\t  17806612 & Feb\\\\\n\t  19900190 & Mar\\\\\n\t  -1107242 & Apr\\\\\n\t   2965629 & May\\\\\n\t -15576313 & Jun\\\\\n\t  37439525 & Jul\\\\\n\t  12511929 & Ago\\\\\n\t  12219757 & Sep\\\\\n\t  -1856509 & Oct\\\\\n\t -13803050 & Nov\\\\\n\t   1030010 & Dic\\\\\n\\end{tabular}\n",
            "text/markdown": "\nA data.frame: 66 × 2\n\n| Resordinario &lt;dbl&gt; | meses &lt;fct&gt; |\n|---|---|\n|   968772 | Jul |\n|   -59538 | Ago |\n|   899658 | Sep |\n| -1607991 | Oct |\n|    47962 | Nov |\n|   448286 | Dic |\n|   128220 | Jan |\n|   224724 | Feb |\n|  2183194 | Mar |\n|  1451961 | Apr |\n|  2303783 | May |\n| -8837850 | Jun |\n|  2308163 | Jul |\n|  1178093 | Ago |\n|   877074 | Sep |\n|  -945512 | Oct |\n|   322738 | Nov |\n|  4220580 | Dic |\n|  1226564 | Jan |\n|  -672814 | Feb |\n|  3694450 | Mar |\n|   994429 | Apr |\n|  1845367 | May |\n| -3600777 | Jun |\n|  4242256 | Jul |\n|   524732 | Ago |\n|  5039520 | Sep |\n|  3576723 | Oct |\n|  1554726 | Nov |\n|  6368295 | Dic |\n| ⋮ | ⋮ |\n|  -5817913 | Jul |\n|   2738370 | Ago |\n|   7057589 | Sep |\n|   6501760 | Oct |\n|   6784486 | Nov |\n|   1190704 | Dic |\n|   2493362 | Jan |\n|  13314451 | Feb |\n|  13999099 | Mar |\n|   1794991 | Apr |\n|   4397498 | May |\n|  -1902371 | Jun |\n|  23696883 | Jul |\n|   7922174 | Ago |\n|   8298826 | Sep |\n|  -3717444 | Oct |\n| -10809350 | Nov |\n|    585855 | Dic |\n|   5376851 | Jan |\n|  17806612 | Feb |\n|  19900190 | Mar |\n|  -1107242 | Apr |\n|   2965629 | May |\n| -15576313 | Jun |\n|  37439525 | Jul |\n|  12511929 | Ago |\n|  12219757 | Sep |\n|  -1856509 | Oct |\n| -13803050 | Nov |\n|   1030010 | Dic |\n\n",
            "text/html": [
              "<table class=\"dataframe\">\n",
              "<caption>A data.frame: 66 × 2</caption>\n",
              "<thead>\n",
              "\t<tr><th scope=col>Resordinario</th><th scope=col>meses</th></tr>\n",
              "\t<tr><th scope=col>&lt;dbl&gt;</th><th scope=col>&lt;fct&gt;</th></tr>\n",
              "</thead>\n",
              "<tbody>\n",
              "\t<tr><td>  968772</td><td>Jul</td></tr>\n",
              "\t<tr><td>  -59538</td><td>Ago</td></tr>\n",
              "\t<tr><td>  899658</td><td>Sep</td></tr>\n",
              "\t<tr><td>-1607991</td><td>Oct</td></tr>\n",
              "\t<tr><td>   47962</td><td>Nov</td></tr>\n",
              "\t<tr><td>  448286</td><td>Dic</td></tr>\n",
              "\t<tr><td>  128220</td><td>Jan</td></tr>\n",
              "\t<tr><td>  224724</td><td>Feb</td></tr>\n",
              "\t<tr><td> 2183194</td><td>Mar</td></tr>\n",
              "\t<tr><td> 1451961</td><td>Apr</td></tr>\n",
              "\t<tr><td> 2303783</td><td>May</td></tr>\n",
              "\t<tr><td>-8837850</td><td>Jun</td></tr>\n",
              "\t<tr><td> 2308163</td><td>Jul</td></tr>\n",
              "\t<tr><td> 1178093</td><td>Ago</td></tr>\n",
              "\t<tr><td>  877074</td><td>Sep</td></tr>\n",
              "\t<tr><td> -945512</td><td>Oct</td></tr>\n",
              "\t<tr><td>  322738</td><td>Nov</td></tr>\n",
              "\t<tr><td> 4220580</td><td>Dic</td></tr>\n",
              "\t<tr><td> 1226564</td><td>Jan</td></tr>\n",
              "\t<tr><td> -672814</td><td>Feb</td></tr>\n",
              "\t<tr><td> 3694450</td><td>Mar</td></tr>\n",
              "\t<tr><td>  994429</td><td>Apr</td></tr>\n",
              "\t<tr><td> 1845367</td><td>May</td></tr>\n",
              "\t<tr><td>-3600777</td><td>Jun</td></tr>\n",
              "\t<tr><td> 4242256</td><td>Jul</td></tr>\n",
              "\t<tr><td>  524732</td><td>Ago</td></tr>\n",
              "\t<tr><td> 5039520</td><td>Sep</td></tr>\n",
              "\t<tr><td> 3576723</td><td>Oct</td></tr>\n",
              "\t<tr><td> 1554726</td><td>Nov</td></tr>\n",
              "\t<tr><td> 6368295</td><td>Dic</td></tr>\n",
              "\t<tr><td>⋮</td><td>⋮</td></tr>\n",
              "\t<tr><td> -5817913</td><td>Jul</td></tr>\n",
              "\t<tr><td>  2738370</td><td>Ago</td></tr>\n",
              "\t<tr><td>  7057589</td><td>Sep</td></tr>\n",
              "\t<tr><td>  6501760</td><td>Oct</td></tr>\n",
              "\t<tr><td>  6784486</td><td>Nov</td></tr>\n",
              "\t<tr><td>  1190704</td><td>Dic</td></tr>\n",
              "\t<tr><td>  2493362</td><td>Jan</td></tr>\n",
              "\t<tr><td> 13314451</td><td>Feb</td></tr>\n",
              "\t<tr><td> 13999099</td><td>Mar</td></tr>\n",
              "\t<tr><td>  1794991</td><td>Apr</td></tr>\n",
              "\t<tr><td>  4397498</td><td>May</td></tr>\n",
              "\t<tr><td> -1902371</td><td>Jun</td></tr>\n",
              "\t<tr><td> 23696883</td><td>Jul</td></tr>\n",
              "\t<tr><td>  7922174</td><td>Ago</td></tr>\n",
              "\t<tr><td>  8298826</td><td>Sep</td></tr>\n",
              "\t<tr><td> -3717444</td><td>Oct</td></tr>\n",
              "\t<tr><td>-10809350</td><td>Nov</td></tr>\n",
              "\t<tr><td>   585855</td><td>Dic</td></tr>\n",
              "\t<tr><td>  5376851</td><td>Jan</td></tr>\n",
              "\t<tr><td> 17806612</td><td>Feb</td></tr>\n",
              "\t<tr><td> 19900190</td><td>Mar</td></tr>\n",
              "\t<tr><td> -1107242</td><td>Apr</td></tr>\n",
              "\t<tr><td>  2965629</td><td>May</td></tr>\n",
              "\t<tr><td>-15576313</td><td>Jun</td></tr>\n",
              "\t<tr><td> 37439525</td><td>Jul</td></tr>\n",
              "\t<tr><td> 12511929</td><td>Ago</td></tr>\n",
              "\t<tr><td> 12219757</td><td>Sep</td></tr>\n",
              "\t<tr><td> -1856509</td><td>Oct</td></tr>\n",
              "\t<tr><td>-13803050</td><td>Nov</td></tr>\n",
              "\t<tr><td>  1030010</td><td>Dic</td></tr>\n",
              "</tbody>\n",
              "</table>\n"
            ]
          },
          "metadata": {
            "tags": []
          }
        }
      ]
    },
    {
      "cell_type": "markdown",
      "metadata": {
        "id": "f2QRoid2k2xg"
      },
      "source": [
        "Grafico de cajas y bigotes para el factor"
      ]
    },
    {
      "cell_type": "code",
      "metadata": {
        "colab": {
          "base_uri": "https://localhost:8080/",
          "height": 437
        },
        "id": "eBtRqTBvipHF",
        "outputId": "0518e85b-f751-4deb-85cb-37c87da3604e"
      },
      "source": [
        "g = ggplot(datos, aes(y=Resordinario,x=meses))\n",
        "g= g + geom_boxplot(aes(fill=meses)) \n",
        "g=g+geom_jitter(alpha = 0.5, color = \"tomato\")\n",
        "g=g+ylab(\"Resordinario\")\n",
        "g=g+xlab(\"meses\")\n",
        "g"
      ],
      "execution_count": null,
      "outputs": [
        {
          "output_type": "display_data",
          "data": {
            "image/png": "[encoded data removed]",
            "text/plain": [
              "plot without title"
            ]
          },
          "metadata": {
            "tags": [],
            "image/png": {
              "width": 420,
              "height": 420
            }
          }
        }
      ]
    }
  ]
}